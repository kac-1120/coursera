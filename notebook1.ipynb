{
 "cells": [
  {
   "cell_type": "code",
   "execution_count": 1,
   "metadata": {},
   "outputs": [],
   "source": [
    "# Notebook Title\n"
   ]
  },
  {
   "cell_type": "code",
   "execution_count": 2,
   "metadata": {},
   "outputs": [],
   "source": [
    "#these is an introductory sentence \n",
    "#in these notebook we are going to perform basic code practices needed for the data science"
   ]
  },
  {
   "cell_type": "code",
   "execution_count": 4,
   "metadata": {},
   "outputs": [],
   "source": [
    "#There are several programming languages commonly used in the field of data science. \n",
    "#some are , python , R , scala , julia"
   ]
  },
  {
   "cell_type": "code",
   "execution_count": 3,
   "metadata": {},
   "outputs": [],
   "source": [
    "# There are numerous libraries and frameworks commonly used in data science for tasks such as data manipulation, analysis, visualization, and machine learning. \n",
    "# some are numpy , pandas ,matplotlib , scikit-learn , tensorflow , \n",
    "# ggplot ,caret"
   ]
  },
  {
   "cell_type": "code",
   "execution_count": 5,
   "metadata": {},
   "outputs": [],
   "source": [
    "# tools are - jupyter notebook , rstudio , python , sql , apache spark matlab and more"
   ]
  },
  {
   "cell_type": "code",
   "execution_count": 6,
   "metadata": {},
   "outputs": [],
   "source": [
    "#An arithmetic expression is a mathematical statement that combines numbers and operators to perform calculations, such as addition, subtraction, multiplication, or division."
   ]
  },
  {
   "cell_type": "code",
   "execution_count": 7,
   "metadata": {},
   "outputs": [
    {
     "name": "stdout",
     "output_type": "stream",
     "text": [
      "sum = 22\n",
      "product = 120\n"
     ]
    }
   ],
   "source": [
    "a= 10\n",
    "b=12\n",
    "print(f\"sum = {a+b}\")\n",
    "print(f\"product = {a*b}\")"
   ]
  },
  {
   "cell_type": "code",
   "execution_count": 8,
   "metadata": {},
   "outputs": [
    {
     "name": "stdout",
     "output_type": "stream",
     "text": [
      "180 minutes is equal to 3.0 hours.\n"
     ]
    }
   ],
   "source": [
    "minutes = 180  \n",
    "\n",
    "hours = minutes / 60\n",
    "\n",
    "print(f\"{minutes} minutes is equal to {hours} hours.\")"
   ]
  },
  {
   "cell_type": "code",
   "execution_count": 9,
   "metadata": {},
   "outputs": [
    {
     "name": "stdout",
     "output_type": "stream",
     "text": [
      "unordered list is \n",
      "- I1\n",
      "- I2\n",
      "- I3\n"
     ]
    }
   ],
   "source": [
    "my_list = [\"I1\", \"I2\", \"I3\"]\n",
    "print(\"unordered list is \")\n",
    "for item in my_list:\n",
    "    \n",
    "    print(\"- \" + item)"
   ]
  },
  {
   "cell_type": "code",
   "execution_count": null,
   "metadata": {},
   "outputs": [],
   "source": [
    "# Author: ABC \n",
    "#the code goes here..."
   ]
  }
 ],
 "metadata": {
  "kernelspec": {
   "display_name": "Python 3",
   "language": "python",
   "name": "python3"
  },
  "language_info": {
   "codemirror_mode": {
    "name": "ipython",
    "version": 3
   },
   "file_extension": ".py",
   "mimetype": "text/x-python",
   "name": "python",
   "nbconvert_exporter": "python",
   "pygments_lexer": "ipython3",
   "version": "3.11.3"
  },
  "orig_nbformat": 4
 },
 "nbformat": 4,
 "nbformat_minor": 2
}
